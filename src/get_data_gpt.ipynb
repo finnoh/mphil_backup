{
 "cells": [
  {
   "cell_type": "code",
   "execution_count": 111,
   "metadata": {},
   "outputs": [
    {
     "name": "stderr",
     "output_type": "stream",
     "text": [
      "100%|██████████| 6/6 [02:07<00:00, 21.27s/it]\n"
     ]
    }
   ],
   "source": [
    "from openai import OpenAI\n",
    "import re\n",
    "from tqdm import tqdm\n",
    "\n",
    "client = OpenAI()\n",
    "lResults = []\n",
    "iCopies = 6\n",
    "\n",
    "for i in tqdm(range(iCopies)):\n",
    "\n",
    "  completion = client.chat.completions.create(\n",
    "    model=\"gpt-3.5-turbo\",\n",
    "    messages=[\n",
    "      {\"role\": \"system\", \"content\": \"You are a marketeer and tasked to come up with concise advertising claims for a hair shampoo.\"},\n",
    "      {\"role\": \"user\", \"content\": \"Give me 100 advertising claims for hair shampoo, that pronounce intangible benefits of the product.\"},\n",
    "    ]\n",
    "  )\n",
    "\n",
    "\n",
    "  string = completion.choices[0].message.content\n",
    "\n",
    "  result = re.split(r'\\d+\\.', string)\n",
    "  result = [s.strip() for s in result if s.strip()]\n",
    "  lResults.append(result)\n",
    "\n",
    "list_of_strings = list(itertools.chain.from_iterable(lResults))\n",
    "lResultIntangible = list(set([s.replace('\\\\', '').replace('\"', '') for s in list_of_strings]))"
   ]
  },
  {
   "cell_type": "code",
   "execution_count": 112,
   "metadata": {},
   "outputs": [
    {
     "name": "stderr",
     "output_type": "stream",
     "text": [
      "  0%|          | 0/6 [00:00<?, ?it/s]"
     ]
    },
    {
     "name": "stderr",
     "output_type": "stream",
     "text": [
      "100%|██████████| 6/6 [02:06<00:00, 21.10s/it]\n"
     ]
    }
   ],
   "source": [
    "from openai import OpenAI\n",
    "import re\n",
    "import itertools\n",
    "from tqdm import tqdm\n",
    "\n",
    "client = OpenAI()\n",
    "lResults = []\n",
    "iCopies = 6\n",
    "\n",
    "for i in tqdm(range(iCopies)):\n",
    "\n",
    "  completion = client.chat.completions.create(\n",
    "    model=\"gpt-3.5-turbo\",\n",
    "    messages=[\n",
    "      {\"role\": \"system\", \"content\": \"You are a marketeer and tasked to come up with concise advertising claims for a hair shampoo.\"},\n",
    "      {\"role\": \"user\", \"content\": \"Give me 100 advertising claims for hair shampoo, that pronounce tangible benefits of the product.\"},\n",
    "    ]\n",
    "  )\n",
    "\n",
    "\n",
    "  string = completion.choices[0].message.content\n",
    "\n",
    "  result = re.split(r'\\d+\\.', string)\n",
    "  result = [s.strip() for s in result if s.strip()]\n",
    "  lResults.append(result)\n",
    "\n",
    "list_of_strings = list(itertools.chain.from_iterable(lResults))\n",
    "lResultTangible = list(set([s.replace('\\\\', '').replace('\"', '') for s in list_of_strings]))"
   ]
  },
  {
   "cell_type": "code",
   "execution_count": 113,
   "metadata": {},
   "outputs": [],
   "source": [
    "import pandas as pd\n",
    "\n",
    "df = pd.DataFrame(data = {'Claim': lResultIntangible + lResultTangible, 'Label': ['Intangible'] * len(lResultIntangible) + ['Tangible'] * len(lResultTangible)})"
   ]
  },
  {
   "cell_type": "code",
   "execution_count": 114,
   "metadata": {},
   "outputs": [],
   "source": [
    "df2 = pd.read_csv(\"gpt_tangible_intangible.csv\")"
   ]
  },
  {
   "cell_type": "code",
   "execution_count": 115,
   "metadata": {},
   "outputs": [],
   "source": [
    "pd.concat([df, df2], axis=0).drop_duplicates(subset = [\"Claim\"]).to_csv(\"gpt_tangible_intangible.csv\", index = False)"
   ]
  }
 ],
 "metadata": {
  "kernelspec": {
   "display_name": "mphil",
   "language": "python",
   "name": "python3"
  },
  "language_info": {
   "codemirror_mode": {
    "name": "ipython",
    "version": 3
   },
   "file_extension": ".py",
   "mimetype": "text/x-python",
   "name": "python",
   "nbconvert_exporter": "python",
   "pygments_lexer": "ipython3",
   "version": "3.9.18"
  }
 },
 "nbformat": 4,
 "nbformat_minor": 2
}
